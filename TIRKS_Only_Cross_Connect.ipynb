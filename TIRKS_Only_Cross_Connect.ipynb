{
 "cells": [
  {
   "cell_type": "code",
   "execution_count": 2,
   "metadata": {},
   "outputs": [
    {
     "name": "stderr",
     "output_type": "stream",
     "text": [
      "/usr/local/Cellar/python/3.6.5/Frameworks/Python.framework/Versions/3.6/lib/python3.6/importlib/_bootstrap.py:219: RuntimeWarning: numpy.dtype size changed, may indicate binary incompatibility. Expected 96, got 88\n",
      "  return f(*args, **kwds)\n"
     ]
    }
   ],
   "source": [
    "from operator import itemgetter\n",
    "from collections import Counter, namedtuple\n",
    "from itertools import chain\n",
    "import re\n",
    "import pdb\n",
    "import pickle\n",
    "import csv\n",
    "from resources import sdf  # Dictionary of PGC ranges\n",
    "import codecs\n",
    "import datetime\n",
    "\n",
    "TID = 'BHLHPABEK31'\n",
    "# Load up the TIRKS data and create namedtuples...\n",
    "with open('dcs.pickle', 'rb') as lf:\n",
    "    lo_dcs = pickle.load(lf)\n",
    "with open('dcs_names.pickle', 'rb') as lf:\n",
    "    dcs_names = pickle.load(lf)\n",
    "with open('st1.pickle', 'rb') as lf:\n",
    "    lo_st1 = pickle.load(lf)\n",
    "with open('st1_names.pickle', 'rb') as lf:\n",
    "    st1_names = pickle.load(lf)\n",
    "with open('t3z.pickle', 'rb') as lf:\n",
    "    lo_t3z = pickle.load(lf)\n",
    "with open('t3z_names.pickle', 'rb') as lf:\n",
    "    t3z_names = pickle.load(lf)\n",
    "DCS = namedtuple('DCS', dcs_names)\n",
    "ST1 = namedtuple('ST1', st1_names)\n",
    "T3Z = namedtuple('T3Z', t3z_names)\n",
    "# populate the dictionaries of namedtuples\n",
    "dcs = {}\n",
    "for d in lo_dcs:\n",
    "    dcs[d[3] + d[4]] = DCS(*d)\n",
    "st1 = {}\n",
    "for s in lo_st1:\n",
    "    st1[s[1]] = ST1(*s)\n",
    "t3z = {}\n",
    "for t in lo_t3z:\n",
    "    t3z[t[1]] = T3Z(*t)"
   ]
  },
  {
   "cell_type": "code",
   "execution_count": 3,
   "metadata": {},
   "outputs": [],
   "source": [
    "def dcs_circuit(slot):\n",
    "    \"\"\"\n",
    "    Return either the child_circuit or assignment circuit number along with which is being used (C or A)\n",
    "    :slot: DCS slot index\n",
    "    :return: Child_circuit or Assignment (C or A) and circuit name\n",
    "    \"\"\"\n",
    "    try:\n",
    "        assert dcs[slot].child_circuit, f'No DCS child_circuit for DCS: {slot}'\n",
    "        return 'C', dcs[slot].child_circuit\n",
    "    except AssertionError as error:\n",
    "        pass\n",
    "    try:\n",
    "        assert dcs[slot].assignment, f'No DCS assignment for DCS: {slot}'\n",
    "        return 'A', dcs[slot].assignment\n",
    "    except AssertionError as error:\n",
    "        pass\n",
    "    return ''"
   ]
  },
  {
   "cell_type": "code",
   "execution_count": 4,
   "metadata": {},
   "outputs": [],
   "source": [
    "def st1_match(ckt):\n",
    "    return [st1[x] for x in st1 if st1[x].ckt_id == ckt]\n",
    "\n",
    "def t3z_match(ckt):\n",
    "    return [t3z[x] for x in t3z if t3z[x].ckt_id == ckt]\n",
    "    \n",
    "def dcs_match(slot, asgn, ckt):\n",
    "    return [dcs[x] for x in dcs if (dcs[x].child_circuit == ckt or dcs[x].assignment == ckt) and dcs[x].slot != dcs[slot].slot]"
   ]
  },
  {
   "cell_type": "code",
   "execution_count": 5,
   "metadata": {},
   "outputs": [],
   "source": [
    "def level_up(tab, matched):\n",
    "    \"\"\"\n",
    "    Return the level 0 ckt_id for a matched child circuit\n",
    "    :tab: the child_circuit tab\n",
    "    :matched: the matching child_cicuirt namedtuple\n",
    "    :return: ckt of  the level 0 circuit ex. child 22.10 (lvl=1) would return 2. (lvl=0)\n",
    "    \"\"\"    \n",
    "    if tab == 'ST01':\n",
    "        level = matched[0].item.split('.')\n",
    "        return st1[level[0] + '.'].ckt_id, str(int(matched[0].chanwkg))\n",
    "    if tab == 'T3Z':\n",
    "        level = matched[0].item.split('.')\n",
    "        return t3z[level[0] + '.'].ckt_id, str(int(matched[0].chanwkg))"
   ]
  },
  {
   "cell_type": "code",
   "execution_count": 6,
   "metadata": {},
   "outputs": [],
   "source": [
    "def look_back(asgn, ckt):\n",
    "    return  [dcs[x] for x in dcs if dcs[x].assignment == ckt]"
   ]
  },
  {
   "cell_type": "code",
   "execution_count": 7,
   "metadata": {},
   "outputs": [],
   "source": [
    "subdiv_ex = []\n",
    "def reformat_slot(slot, subdiv):\n",
    "    if len(subdiv) == 3:\n",
    "        return f'{slot[1:]}-{subdiv[0]}T-{subdiv[1]}-{subdiv[2]}'\n",
    "    elif len(subdiv) == 2:\n",
    "        return f'{slot}-{subdiv[0]}T-{subdiv[1]}'\n",
    "    else:\n",
    "        subdiv_ex.append([slot,subdiv])"
   ]
  },
  {
   "cell_type": "code",
   "execution_count": 8,
   "metadata": {},
   "outputs": [],
   "source": [
    "def parse_xcon(xcon):\n",
    "    if xcon.subdiv:\n",
    "        return [repr(xcon.__class__)[-5:-2], reformat_slot(xcon.slot, xcon.subdiv), xcon.status, xcon.a_clli, xcon.z_clli, xcon.assignment, xcon.child_circuit]\n",
    "    else:\n",
    "        return [repr(xcon.__class__)[-5:-2], xcon.slot, xcon.status, xcon.a_clli, xcon.z_clli, xcon.assignment, xcon.child_circuit]"
   ]
  },
  {
   "cell_type": "code",
   "execution_count": 10,
   "metadata": {},
   "outputs": [],
   "source": [
    "xcon = []\n",
    "for slot in dcs:\n",
    "    matched_st1 = []\n",
    "    matched_t3z = []\n",
    "    matched_dcs = []\n",
    "    thing_1 = []\n",
    "    \n",
    "    asgn, ckt = dcs_circuit(slot)  # Is the dcs circuit an assignment or a child\n",
    "    matched_st1 = st1_match(ckt)\n",
    "    matched_t3z = t3z_match(ckt)\n",
    "\n",
    "    if matched_st1:\n",
    "        lvl0_ckt, chanwkg = level_up('ST01', matched_st1)\n",
    "        thing_1 = look_back(asgn, lvl0_ckt)\n",
    "        try:\n",
    "            temp = dict(thing_1[0]._asdict())\n",
    "            temp['slot'] += f'-{chanwkg}'\n",
    "            thing_1 = [DCS(*temp.values())]\n",
    "        except:\n",
    "            pass\n",
    "\n",
    "    if matched_t3z:\n",
    "        lvl0_ckt, chanwkg = level_up('T3Z', matched_t3z)\n",
    "        thing_1 = look_back(asgn, lvl0_ckt)\n",
    "        try:\n",
    "            temp = dict(thing_1[0]._asdict())\n",
    "            temp['slot'] += f'-{chanwkg}'\n",
    "            thing_1 = [DCS(*temp.values())]\n",
    "        except:\n",
    "            pass\n",
    "\n",
    "    if not matched_st1 and not matched_t3z:\n",
    "        matched_dcs = dcs_match(slot, asgn, ckt)\n",
    "        \n",
    "    xcon.append([dcs[slot], matched_st1, matched_t3z, thing_1, matched_dcs])"
   ]
  },
  {
   "cell_type": "code",
   "execution_count": null,
   "metadata": {},
   "outputs": [],
   "source": []
  },
  {
   "cell_type": "code",
   "execution_count": 14,
   "metadata": {},
   "outputs": [],
   "source": [
    "header = ['Type', 'Slot', 'Status', 'A CLLI', 'Z CLLI', 'Assignment', 'Child Circuit',\n",
    "          'Child Type', 'Matched Circuit', 'Child A CLLI', 'Child Z CLLI',\n",
    "          'Type', 'Slot', 'Status', 'A CLLI', 'Z CLLI', 'Assignment', 'Child Circuit']\n",
    "\n",
    "filename = f'{TID}_TIRKS_Circuit_Mapping_{datetime.datetime.now().strftime(\"%y%m%d_%H%M\")}.csv'\n",
    "with open(filename, 'w') as tf:\n",
    "    writer = csv.writer(tf)\n",
    "    writer.writerow(header)\n",
    "    for x in xcon:\n",
    "        row = []\n",
    "        if x[1]:\n",
    "            for s in x[1]:\n",
    "                row.extend(parse_xcon(x[0]))\n",
    "                row.extend([repr(s.__class__)[-5:-2], s.ckt_id, s.aclli, s.zclli])\n",
    "                if x[3]:\n",
    "                    row.extend(parse_xcon(x[3][0]))\n",
    "                if x[4]:\n",
    "                    row.extend(parse_xcon(x[4][0]))\n",
    "                writer.writerow(row)\n",
    "                row = []\n",
    "\n",
    "        if x[2]:\n",
    "            for t in x[2]:\n",
    "                row.extend(parse_xcon(x[0]))\n",
    "                row.extend([repr(t.__class__)[-5:-2], t.ckt_id, t.aclli, t.zclli])\n",
    "                if x[3]:\n",
    "                    row.extend(parse_xcon(x[3][0]))\n",
    "                if x[4]:\n",
    "                    row.extend(parse_xcon(x[4][0]))\n",
    "                writer.writerow(row)\n",
    "                row = []\n",
    "        \n",
    "        if not x[1] and not x[2]:\n",
    "            row.extend(parse_xcon(x[0]))\n",
    "            if x[4]:\n",
    "                if x[0].child_circuit:  # was always using assignment - fixed 09/29/18 18:10 \n",
    "                    row.extend(['', x[0].child_circuit, '', ''])\n",
    "                    row.extend(parse_xcon(x[4][0]))\n",
    "                else:\n",
    "                    row.extend(['', x[0].assignment, '', ''])\n",
    "                    row.extend(parse_xcon(x[4][0]))\n",
    "            writer.writerow(row)\n",
    "            row = []"
   ]
  },
  {
   "cell_type": "code",
   "execution_count": null,
   "metadata": {},
   "outputs": [],
   "source": [
    "        if not x[1] and not x[2]:\n",
    "            row.extend(parse_xcon(x[0]))\n",
    "            if x[4]:\n",
    "                row.extend(['', x[0].assignment, '', ''])\n",
    "                row.extend(parse_xcon(x[4][0]))\n",
    "            writer.writerow(row)\n",
    "            row = []"
   ]
  }
 ],
 "metadata": {
  "kernelspec": {
   "display_name": "Python 3",
   "language": "python",
   "name": "python3"
  },
  "language_info": {
   "codemirror_mode": {
    "name": "ipython",
    "version": 3
   },
   "file_extension": ".py",
   "mimetype": "text/x-python",
   "name": "python",
   "nbconvert_exporter": "python",
   "pygments_lexer": "ipython3",
   "version": "3.6.5"
  }
 },
 "nbformat": 4,
 "nbformat_minor": 2
}
